{
 "cells": [
  {
   "cell_type": "code",
   "execution_count": 12,
   "id": "87066c29-ea39-4a8c-9222-3cd4571d1a35",
   "metadata": {},
   "outputs": [
    {
     "name": "stdout",
     "output_type": "stream",
     "text": [
      "input: image tensor(float) ['p2o.DynamicDimension.0', 3, 640, 640]\n",
      "input: scale_factor tensor(float) ['p2o.DynamicDimension.1', 2]\n",
      "output: multiclass_nms3_0.tmp_0 tensor(float) ['p2o.DynamicDimension.2', 6]\n",
      "output: multiclass_nms3_0.tmp_2 tensor(int32) [1]\n",
      "\n",
      "input: x tensor(float) ['p2o.DynamicDimension.0', 3, 192, 256]\n",
      "output: sigmoid_2.tmp_0 tensor(float) ['p2o.DynamicDimension.1', 19]\n"
     ]
    }
   ],
   "source": [
    "from onnxruntime import InferenceSession\n",
    "\n",
    "sess = InferenceSession(\"ppyoloe_detection.onnx\")\n",
    "\n",
    "for t in sess.get_inputs():\n",
    "    print(\"input:\", t.name, t.type, t.shape)\n",
    "\n",
    "for t in sess.get_outputs():\n",
    "    print(\"output:\", t.name, t.type, t.shape)\n",
    "\n",
    "print()\n",
    "\n",
    "sess = InferenceSession(\"pp_attribute.onnx\")\n",
    "\n",
    "for t in sess.get_inputs():\n",
    "    print(\"input:\", t.name, t.type, t.shape)\n",
    "\n",
    "for t in sess.get_outputs():\n",
    "    print(\"output:\", t.name, t.type, t.shape)"
   ]
  }
 ],
 "metadata": {
  "kernelspec": {
   "display_name": "Python 3 (ipykernel)",
   "language": "python",
   "name": "python3"
  },
  "language_info": {
   "codemirror_mode": {
    "name": "ipython",
    "version": 3
   },
   "file_extension": ".py",
   "mimetype": "text/x-python",
   "name": "python",
   "nbconvert_exporter": "python",
   "pygments_lexer": "ipython3",
   "version": "3.10.2"
  }
 },
 "nbformat": 4,
 "nbformat_minor": 5
}
